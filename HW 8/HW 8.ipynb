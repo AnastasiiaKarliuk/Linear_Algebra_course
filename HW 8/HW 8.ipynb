{
 "cells": [
  {
   "cell_type": "code",
   "execution_count": 1,
   "id": "7aac89a9",
   "metadata": {},
   "outputs": [],
   "source": [
    "import numpy as np"
   ]
  },
  {
   "cell_type": "markdown",
   "id": "a39d0bc5",
   "metadata": {},
   "source": [
    "# Ex 1"
   ]
  },
  {
   "cell_type": "code",
   "execution_count": 93,
   "id": "92318024",
   "metadata": {},
   "outputs": [],
   "source": [
    "def y1(x: int):\n",
    "    y = x+1\n",
    "    return (x, y)\n",
    "\n",
    "def y2(x: int):\n",
    "    y = 4-x\n",
    "    return (x, y)\n",
    "\n",
    "def y3(x: int):\n",
    "    y = 2*x-1\n",
    "    return (x, y)\n",
    "\n",
    "def get_direction(point1, point2):\n",
    "    x1, y1 = point1\n",
    "    x2, y2 = point2\n",
    "    direction = np.array([x2-x1, y2-y1])\n",
    "    direction = direction / np.sqrt((direction**2).sum())\n",
    "    return direction\n",
    "\n",
    "\n",
    "x_0 = 1\n",
    "x_1 = 3\n",
    "point1 = y1(x=x_0)\n",
    "direction1 = get_direction(point1, y1(x_1))\n",
    "\n",
    "point2 = y2(x=x_0)\n",
    "direction2 = get_direction(point2, y2(x_1))\n",
    "\n",
    "point3 = y3(x=x_0)\n",
    "direction3 = get_direction(point3, y3(x_1))\n",
    "\n",
    "\n",
    "def intersect(P0,P1):\n",
    "    # generate all line direction vectors \n",
    "    n = (P1-P0)/np.linalg.norm(P1-P0,axis=1)[:,np.newaxis] # normalized\n",
    "    print(n.shape)\n",
    "    \n",
    "    # generate the array of all projectors \n",
    "    projs = np.eye(n.shape[1]) - n[:,:,np.newaxis]*n[:,np.newaxis]  # I - n*n.T\n",
    "\n",
    "    # generate R matrix and q vector\n",
    "    R = projs.sum(axis=0)\n",
    "    q = (projs @ P0[:,:,np.newaxis]).sum(axis=0)\n",
    "\n",
    "    # solve the least squares problem for the \n",
    "    # intersection point p: Rp = q\n",
    "    p = np.linalg.lstsq(R,q,rcond=None)[0]\n",
    "\n",
    "    return p\n",
    "\n",
    "\n",
    "\n",
    "P0 = np.array([\n",
    "    point1,\n",
    "    point2,\n",
    "    point3\n",
    "])\n",
    "P1 = np.array([\n",
    "    y1(x_1),\n",
    "    y2(x_1),\n",
    "    y3(x_1)\n",
    "])\n",
    "\n",
    "\n",
    "\n",
    "def intersect(P0,P1):\n",
    "#     rot = np.array([[0, -1], [1, 0]])\n",
    "    \n",
    "#     for v1, v2 in zip(P0, P1):\n",
    "#         normed = (v2-v1)/np.linalg.norm(v2-v1)\n",
    "#         ni = rot@normed \n",
    "#         print( ni@ni.T )\n",
    "        \n",
    "    n = (P1-P0)/np.linalg.norm(P1-P0,axis=1)[:, np.newaxis] # normalized\n",
    "    \n",
    "    # generate the array of all projectors \n",
    "    projs = np.eye(n.shape[1]) - n[:,:,np.newaxis]*n[:,np.newaxis]  # I - n*n.T\n",
    "\n",
    "    # generate R matrix and q vector\n",
    "    R = projs.sum(axis=0)\n",
    "    q = (projs @ P0[:,:,np.newaxis]).sum(axis=0)\n",
    "\n",
    "    # solve the least squares problem for the \n",
    "    # intersection point p: Rp = q\n",
    "    p = np.linalg.lstsq(R,q,rcond=None)[0]\n",
    "\n",
    "    return p\n",
    "\n",
    "intersection_point = intersect(P0, P1)"
   ]
  },
  {
   "cell_type": "code",
   "execution_count": 96,
   "id": "eea5eac2",
   "metadata": {},
   "outputs": [],
   "source": [
    "# intersection_point = (1.65, 2.5)"
   ]
  },
  {
   "cell_type": "code",
   "execution_count": 97,
   "id": "a0adf274",
   "metadata": {},
   "outputs": [
    {
     "data": {
      "image/png": "[encoded data removed]",
      "text/plain": [
       "<Figure size 1080x360 with 1 Axes>"
      ]
     },
     "metadata": {
      "needs_background": "light"
     },
     "output_type": "display_data"
    }
   ],
   "source": [
    "import matplotlib.pyplot as plt\n",
    "\n",
    "\n",
    "plt.figure(figsize=(15, 5))\n",
    "\n",
    "l1 = np.array([point1, y1(x_1)])\n",
    "plt.plot(l1[:, 0], l1[:, 1])\n",
    "\n",
    "l2 = np.array([point2, y2(x_1)])\n",
    "plt.plot(l2[:, 0], l2[:, 1])\n",
    "\n",
    "l3 = np.array([point3, y3(x_1)])\n",
    "plt.plot(l3[:, 0], l3[:, 1])\n",
    "\n",
    "plt.scatter(intersection_point[0], intersection_point[1], c='r')\n",
    "plt.grid()"
   ]
  },
  {
   "cell_type": "code",
   "execution_count": 98,
   "id": "c6946960",
   "metadata": {},
   "outputs": [
    {
     "data": {
      "text/plain": [
       "(1.65, 2.5)"
      ]
     },
     "execution_count": 98,
     "metadata": {},
     "output_type": "execute_result"
    }
   ],
   "source": [
    "intersection_point"
   ]
  },
  {
   "cell_type": "code",
   "execution_count": 99,
   "id": "9c6be686",
   "metadata": {},
   "outputs": [
    {
     "data": {
      "text/plain": [
       "(0.10606601717798206, 0.10606601717798238, 0.08944271909999166)"
      ]
     },
     "execution_count": 99,
     "metadata": {},
     "output_type": "execute_result"
    }
   ],
   "source": [
    "def dist_line1(p):\n",
    "    x, y = p\n",
    "    a, b, c = 1, -1, 1\n",
    "    dist = np.abs(a*x+b*y+c)/np.sqrt(a**2+b**2)\n",
    "    return dist\n",
    "\n",
    "def dist_line2(p):\n",
    "    x, y = p\n",
    "    a, b, c = -1, -1, 4\n",
    "    dist = np.abs(a*x+b*y+c)/np.sqrt(a**2+b**2)\n",
    "    return dist\n",
    "\n",
    "def dist_line3(p):\n",
    "    x, y = p\n",
    "    a, b, c = 2, -1, -1\n",
    "    dist = np.abs(a*x+b*y+c)/np.sqrt(a**2+b**2)\n",
    "    return dist\n",
    "\n",
    "dist_line1(intersection_point), dist_line2(intersection_point), dist_line3(intersection_point)"
   ]
  },
  {
   "cell_type": "code",
   "execution_count": 100,
   "id": "f3b72e2d",
   "metadata": {},
   "outputs": [
    {
     "data": {
      "text/plain": [
       "(0.10606601717798206, 0.10606601717798238, 0.08944271909999166)"
      ]
     },
     "execution_count": 100,
     "metadata": {},
     "output_type": "execute_result"
    }
   ],
   "source": [
    "dist_line1(intersection_point), dist_line2(intersection_point), dist_line3(intersection_point)"
   ]
  },
  {
   "cell_type": "code",
   "execution_count": null,
   "id": "a4dad206",
   "metadata": {},
   "outputs": [],
   "source": []
  },
  {
   "cell_type": "markdown",
   "id": "35f9317e",
   "metadata": {},
   "source": [
    "# Ex 2"
   ]
  },
  {
   "cell_type": "code",
   "execution_count": 3,
   "id": "a1d6d303",
   "metadata": {},
   "outputs": [
    {
     "data": {
      "text/plain": [
       "array([[19,  9, 12, 21, -4, 24,  5],\n",
       "       [43, 21, 29, 46, -4, 51, 14],\n",
       "       [25, 15, 18, 27,  2, 30, 11]])"
      ]
     },
     "execution_count": 3,
     "metadata": {},
     "output_type": "execute_result"
    }
   ],
   "source": [
    "vectors = np.array([\n",
    "    [19, 43, 25],\n",
    "    [9, 21, 15],\n",
    "    [12, 29, 18],\n",
    "    [21, 46, 27],\n",
    "    [-4, -4, 2],\n",
    "    [24, 51, 30],\n",
    "    [5, 14, 11]\n",
    "]).T\n",
    "vectors"
   ]
  },
  {
   "cell_type": "code",
   "execution_count": null,
   "id": "9e2f3ffe",
   "metadata": {},
   "outputs": [],
   "source": []
  }
 ],
 "metadata": {
  "kernelspec": {
   "display_name": "Python 3 (ipykernel)",
   "language": "python",
   "name": "python3"
  },
  "language_info": {
   "codemirror_mode": {
    "name": "ipython",
    "version": 3
   },
   "file_extension": ".py",
   "mimetype": "text/x-python",
   "name": "python",
   "nbconvert_exporter": "python",
   "pygments_lexer": "ipython3",
   "version": "3.8.9"
  }
 },
 "nbformat": 4,
 "nbformat_minor": 5
}
