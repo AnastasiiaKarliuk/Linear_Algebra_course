{
 "cells": [
  {
   "cell_type": "code",
   "execution_count": 81,
   "id": "7aac89a9",
   "metadata": {},
   "outputs": [],
   "source": [
    "import numpy as np\n",
    "import matplotlib.pyplot as plt"
   ]
  },
  {
   "cell_type": "markdown",
   "id": "a39d0bc5",
   "metadata": {},
   "source": [
    "# Ex 1"
   ]
  },
  {
   "cell_type": "code",
   "execution_count": 82,
   "id": "92318024",
   "metadata": {},
   "outputs": [],
   "source": [
    "def y1(x: int):\n",
    "    y = x+1\n",
    "#     y = x+4\n",
    "    return (x, y)\n",
    "\n",
    "def y2(x: int):\n",
    "    y = 4-x\n",
    "#     y = 4-2*x\n",
    "    return (x, y)\n",
    "\n",
    "def y3(x: int):\n",
    "    y = 2*x-1\n",
    "    return (x, y)\n",
    "\n",
    "def get_direction(point1, point2):\n",
    "    x1, y1 = point1\n",
    "    x2, y2 = point2\n",
    "    direction = np.array([x2-x1, y2-y1])\n",
    "    direction = direction / np.sqrt((direction**2).sum())\n",
    "    return direction\n",
    "\n",
    "\n",
    "def intersect(P0, P1):\n",
    "    rot = np.array([[0, -1], [1, 0]])\n",
    "    \n",
    "    sum1 = None\n",
    "    sum2 = None\n",
    "    \n",
    "    for v1, v2 in zip(P0, P1):\n",
    "        normed = (v2-v1)/np.linalg.norm(v2-v1)\n",
    "        ni = (rot@normed.T)[:, np.newaxis]\n",
    "        \n",
    "        if sum1 is None:\n",
    "            sum1 = ni@ni.T\n",
    "            sum2 = (ni@ni.T)@v1\n",
    "        else:\n",
    "            sum1 += ni@ni.T\n",
    "            sum2 += (ni@ni.T)@v1\n",
    "    x = np.linalg.inv(sum1)@sum2\n",
    "    return x"
   ]
  },
  {
   "cell_type": "code",
   "execution_count": 83,
   "id": "928a3a17",
   "metadata": {},
   "outputs": [
    {
     "data": {
      "text/plain": [
       "array([1.6 , 2.45])"
      ]
     },
     "execution_count": 83,
     "metadata": {},
     "output_type": "execute_result"
    }
   ],
   "source": [
    "x_0 = 1\n",
    "x_1 = 3\n",
    "point1 = y1(x=x_0)\n",
    "direction1 = get_direction(point1, y1(x_1))\n",
    "\n",
    "point2 = y2(x=x_0)\n",
    "direction2 = get_direction(point2, y2(x_1))\n",
    "\n",
    "point3 = y3(x=x_0)\n",
    "direction3 = get_direction(point3, y3(x_1))\n",
    "\n",
    "\n",
    "P0 = np.array([\n",
    "    point1,\n",
    "    point2,\n",
    "    point3\n",
    "])\n",
    "P1 = np.array([\n",
    "    y1(x_1),\n",
    "    y2(x_1),\n",
    "    y3(x_1)\n",
    "])\n",
    "\n",
    "\n",
    "intersection_point = intersect(P0, P1)\n",
    "intersection_point"
   ]
  },
  {
   "cell_type": "code",
   "execution_count": 84,
   "id": "a0adf274",
   "metadata": {},
   "outputs": [
    {
     "data": {
      "image/png": "[encoded data removed]",
      "text/plain": [
       "<Figure size 1080x360 with 1 Axes>"
      ]
     },
     "metadata": {
      "needs_background": "light"
     },
     "output_type": "display_data"
    }
   ],
   "source": [
    "plt.figure(figsize=(15, 5))\n",
    "\n",
    "l1 = np.array([point1, y1(x_1)])\n",
    "plt.plot(l1[:, 0], l1[:, 1])\n",
    "\n",
    "l2 = np.array([point2, y2(x_1)])\n",
    "plt.plot(l2[:, 0], l2[:, 1])\n",
    "\n",
    "l3 = np.array([point3, y3(x_1)])\n",
    "plt.plot(l3[:, 0], l3[:, 1])\n",
    "\n",
    "plt.scatter(intersection_point[0], intersection_point[1], c='r')\n",
    "plt.grid()"
   ]
  },
  {
   "cell_type": "code",
   "execution_count": null,
   "id": "a4dad206",
   "metadata": {},
   "outputs": [],
   "source": []
  },
  {
   "cell_type": "markdown",
   "id": "35f9317e",
   "metadata": {},
   "source": [
    "# Ex 2"
   ]
  },
  {
   "cell_type": "code",
   "execution_count": 3,
   "id": "a1d6d303",
   "metadata": {},
   "outputs": [
    {
     "data": {
      "text/plain": [
       "array([[19,  9, 12, 21, -4, 24,  5],\n",
       "       [43, 21, 29, 46, -4, 51, 14],\n",
       "       [25, 15, 18, 27,  2, 30, 11]])"
      ]
     },
     "execution_count": 3,
     "metadata": {},
     "output_type": "execute_result"
    }
   ],
   "source": [
    "vectors = np.array([\n",
    "    [19, 43, 25],\n",
    "    [9, 21, 15],\n",
    "    [12, 29, 18],\n",
    "    [21, 46, 27],\n",
    "    [-4, -4, 2],\n",
    "    [24, 51, 30],\n",
    "    [5, 14, 11]\n",
    "]).T\n",
    "vectors"
   ]
  },
  {
   "cell_type": "code",
   "execution_count": null,
   "id": "9e2f3ffe",
   "metadata": {},
   "outputs": [],
   "source": []
  }
 ],
 "metadata": {
  "kernelspec": {
   "display_name": "Python 3 (ipykernel)",
   "language": "python",
   "name": "python3"
  },
  "language_info": {
   "codemirror_mode": {
    "name": "ipython",
    "version": 3
   },
   "file_extension": ".py",
   "mimetype": "text/x-python",
   "name": "python",
   "nbconvert_exporter": "python",
   "pygments_lexer": "ipython3",
   "version": "3.8.9"
  }
 },
 "nbformat": 4,
 "nbformat_minor": 5
}
