{
 "cells": [
  {
   "cell_type": "code",
   "execution_count": 1,
   "id": "2a73f785",
   "metadata": {},
   "outputs": [],
   "source": [
    "import numpy as np"
   ]
  },
  {
   "cell_type": "markdown",
   "id": "58bec708",
   "metadata": {},
   "source": [
    "# Ex 1"
   ]
  },
  {
   "cell_type": "code",
   "execution_count": 61,
   "id": "9d0dd500",
   "metadata": {},
   "outputs": [],
   "source": [
    "s1 = np.array([0, -0.01])\n",
    "s2 = np.array([0.01, 0])\n",
    "t = np.array([4, 5])\n",
    "a = np.array([-1, 3])"
   ]
  },
  {
   "cell_type": "code",
   "execution_count": 63,
   "id": "49e50310",
   "metadata": {},
   "outputs": [
    {
     "data": {
      "text/plain": [
       "array([ 200., -500.])"
      ]
     },
     "execution_count": 63,
     "metadata": {},
     "output_type": "execute_result"
    }
   ],
   "source": [
    "S = np.array([\n",
    "    s1, s2\n",
    "])\n",
    "\n",
    "S_inv = np.linalg.inv(S.T)\n",
    "a_new = S_inv.dot((a-t).T)\n",
    "a_new"
   ]
  },
  {
   "cell_type": "code",
   "execution_count": null,
   "id": "6424df66",
   "metadata": {},
   "outputs": [],
   "source": []
  },
  {
   "cell_type": "markdown",
   "id": "4f02617c",
   "metadata": {},
   "source": [
    "# Check Ex 2"
   ]
  },
  {
   "cell_type": "code",
   "execution_count": 14,
   "id": "e7f67170",
   "metadata": {},
   "outputs": [],
   "source": [
    "a = np.array([1, 2, 1])\n",
    "a1 = np.array([9, 15, 1])\n",
    "\n",
    "b = np.array([2, 1, 1])\n",
    "b1 = np.array([8, 14, 1])\n",
    "\n",
    "c = np.array([3, 3, 1])\n",
    "c1 = np.array([16, 28, 1])"
   ]
  },
  {
   "cell_type": "code",
   "execution_count": 17,
   "id": "53d052f4",
   "metadata": {},
   "outputs": [
    {
     "data": {
      "text/plain": [
       "array([ True,  True,  True])"
      ]
     },
     "execution_count": 17,
     "metadata": {},
     "output_type": "execute_result"
    }
   ],
   "source": [
    "S = np.array([[2, 3, 1], \n",
    "              [4, 5, 1], \n",
    "              [0, 0, 1]])\n",
    "a_new = S.dot(a.T)\n",
    "np.equal(a_new, a1)"
   ]
  },
  {
   "cell_type": "code",
   "execution_count": 18,
   "id": "cf8fdd69",
   "metadata": {},
   "outputs": [
    {
     "data": {
      "text/plain": [
       "array([ True,  True,  True])"
      ]
     },
     "execution_count": 18,
     "metadata": {},
     "output_type": "execute_result"
    }
   ],
   "source": [
    "b_new = S.dot(b.T)\n",
    "np.equal(b_new, b1)"
   ]
  },
  {
   "cell_type": "code",
   "execution_count": 19,
   "id": "0388ea86",
   "metadata": {},
   "outputs": [
    {
     "data": {
      "text/plain": [
       "array([ True,  True,  True])"
      ]
     },
     "execution_count": 19,
     "metadata": {},
     "output_type": "execute_result"
    }
   ],
   "source": [
    "c_new = S.dot(c.T)\n",
    "np.equal(c_new, c1)"
   ]
  },
  {
   "cell_type": "code",
   "execution_count": null,
   "id": "6bc2f128",
   "metadata": {},
   "outputs": [],
   "source": []
  },
  {
   "cell_type": "markdown",
   "id": "3dc18d50",
   "metadata": {},
   "source": [
    "# Ex 3"
   ]
  },
  {
   "cell_type": "code",
   "execution_count": 64,
   "id": "9bdab180",
   "metadata": {},
   "outputs": [
    {
     "ename": "SyntaxError",
     "evalue": "invalid syntax (1532899528.py, line 2)",
     "output_type": "error",
     "traceback": [
      "\u001b[0;36m  File \u001b[0;32m\"/var/folders/10/zlkr3qdd3w9bhj58786j66n00000gn/T/ipykernel_3138/1532899528.py\"\u001b[0;36m, line \u001b[0;32m2\u001b[0m\n\u001b[0;31m    x + 2z = y\u001b[0m\n\u001b[0m         ^\u001b[0m\n\u001b[0;31mSyntaxError\u001b[0m\u001b[0;31m:\u001b[0m invalid syntax\n"
     ]
    }
   ],
   "source": [
    "b = np.array([3, 3, 3])\n",
    "x + 2z = y"
   ]
  },
  {
   "cell_type": "code",
   "execution_count": null,
   "id": "c4666439",
   "metadata": {},
   "outputs": [],
   "source": []
  }
 ],
 "metadata": {
  "kernelspec": {
   "display_name": "Python 3 (ipykernel)",
   "language": "python",
   "name": "python3"
  },
  "language_info": {
   "codemirror_mode": {
    "name": "ipython",
    "version": 3
   },
   "file_extension": ".py",
   "mimetype": "text/x-python",
   "name": "python",
   "nbconvert_exporter": "python",
   "pygments_lexer": "ipython3",
   "version": "3.8.9"
  }
 },
 "nbformat": 4,
 "nbformat_minor": 5
}
