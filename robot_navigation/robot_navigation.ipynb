{
 "cells": [
  {
   "cell_type": "code",
   "execution_count": 1,
   "metadata": {
    "ExecuteTime": {
     "end_time": "2021-11-19T08:00:59.017889Z",
     "start_time": "2021-11-19T08:00:58.806053Z"
    }
   },
   "outputs": [],
   "source": [
    "import json\n",
    "import numpy as np\n",
    "from robot_navigation import is_segments_intersect, check_polyline\n",
    "from matplotlib import pyplot as plt"
   ]
  },
  {
   "cell_type": "markdown",
   "metadata": {},
   "source": [
    "# solution"
   ]
  },
  {
   "cell_type": "code",
   "execution_count": 212,
   "metadata": {
    "ExecuteTime": {
     "end_time": "2021-11-19T08:31:52.691016Z",
     "start_time": "2021-11-19T08:31:52.679749Z"
    }
   },
   "outputs": [],
   "source": [
    "def calculateDistance(x1,y1,x2,y2):\n",
    "    dist = np.sqrt((x2 - x1)**2 + (y2 - y1)**2)\n",
    "    return dist\n",
    "\n",
    "\n",
    "def line_intersection(line1, line2):\n",
    "    xdiff = (line1[0][0] - line1[1][0], line2[0][0] - line2[1][0])\n",
    "    ydiff = (line1[0][1] - line1[1][1], line2[0][1] - line2[1][1])\n",
    "\n",
    "    def det(a, b):\n",
    "        return a[0] * b[1] - a[1] * b[0]\n",
    "\n",
    "    div = det(xdiff, ydiff)\n",
    "    d = (det(*line1), det(*line2))\n",
    "    x = det(d, xdiff) / div\n",
    "    y = det(d, ydiff) / div\n",
    "    return x, y\n",
    "\n",
    "def get_crossed_vec(start, curr_step, obstacles):\n",
    "    crossed_vec, dists = [], []\n",
    "    for obs in obstacles:\n",
    "        for vec1, vec2 in zip(obs, np.vstack([obs[1:], obs[0]])):\n",
    "            line1 = np.array((vec1, vec2))\n",
    "            crossed = is_segments_intersect(line1, (start, curr_step))\n",
    "            if crossed:\n",
    "                l1 = vec1 - vec2\n",
    "                l2 = start - curr_step\n",
    "                l1 = line_intersection((vec1, vec2), (start, curr_step))\n",
    "                dist = calculateDistance(x1=l1[0], y1=l1[1], x2=start[0], y2=start[1])\n",
    "                crossed_vec.append(line1)\n",
    "                dists.append(dist)\n",
    "                print('(start, curr_step) ', (start, curr_step))\n",
    "                print(vec1, vec2, 'dist: ', dist)\n",
    "    if len(crossed_vec)>0:\n",
    "        crossed_vec = crossed_vec[np.argmin(dists)]\n",
    "    return crossed_vec\n",
    "\n",
    "def get_angle(vec1, vec2):\n",
    "    norm_v1 = np.linalg.norm(vec1)\n",
    "    norm_v2 = np.linalg.norm(vec2)\n",
    "    cosA = np.cross(vec1, vec2)/(norm_v1*norm_v2)\n",
    "    alpha = np.rad2deg(np.arccos(cosA))\n",
    "    return alpha\n",
    "\n",
    "def get_new_direction(crossed_vec, pure_vector):\n",
    "#     print(crossed_vec)\n",
    "#     print(pure_vector)\n",
    "    a, b = crossed_vec\n",
    "    angleAB = get_angle(pure_vector, b-a)\n",
    "    angleBA = get_angle(pure_vector, a-b)\n",
    "#     print(angleAB, angleBA)\n",
    "    new_dir = b-a if (angleAB<angleBA and ((b-a)>0).any()) else a-b\n",
    "    new_dir_normed = new_dir/np.linalg.norm(new_dir)\n",
    "    return new_dir_normed\n",
    "\n",
    "def get_the_nearest_point(curr_start, finish, next_step):\n",
    "    dist_to_finish = calculateDistance(curr_start[0], curr_start[1], finish[0], finish[1])\n",
    "    dist_to_next_point = calculateDistance(curr_start[0], curr_start[1], next_step[0], next_step[1])\n",
    "    return finish if dist_to_finish < dist_to_next_point else next_step\n",
    "    \n",
    "def get_next_step(finish, curr_start, obstacles):\n",
    "    pure_vector = finish - curr_start\n",
    "    pure_vector_normed = pure_vector/np.linalg.norm(pure_vector)\n",
    "    \n",
    "    next_step = curr_start+pure_vector_normed\n",
    "    crossed_vec = get_crossed_vec(curr_start, next_step, obstacles)\n",
    "    \n",
    "    new_dir_normed = get_new_direction(crossed_vec, pure_vector) if len(crossed_vec) else pure_vector_normed\n",
    "    next_step =  curr_start+new_dir_normed\n",
    "    \n",
    "#     print('')\n",
    "#     print(curr_start, next_step)\n",
    "\n",
    "    crossed_vec = get_crossed_vec(curr_start, next_step, obstacles)\n",
    "    if len(crossed_vec):\n",
    "        new_dir_normed = get_new_direction(crossed_vec, pure_vector)\n",
    "    \n",
    "    next_step =  curr_start+new_dir_normed\n",
    "    curr_start = get_the_nearest_point(curr_start, finish, next_step)\n",
    "    return curr_start\n",
    "\n",
    "def plot_path(obstacles, my_path):\n",
    "    plt.figure(figsize=(15,5))\n",
    "#     plt.axis('equal')\n",
    "\n",
    "    for ob in obstacles:\n",
    "        ob = list(ob)\n",
    "        ob.append(ob[0])\n",
    "        x,y = zip(*ob)\n",
    "        plt.plot(x, y, c='red')\n",
    "\n",
    "    x,y = zip(*my_path)\n",
    "    plt.scatter(x, y)\n",
    "    plt.plot(x,y)\n",
    "    plt.grid()\n",
    "    plt.show()"
   ]
  },
  {
   "cell_type": "code",
   "execution_count": 213,
   "metadata": {},
   "outputs": [],
   "source": [
    "def get_centroid(obstacl):\n",
    "    return np.array(obstacl).mean(axis=0)\n",
    "\n",
    "\n",
    "def widther_obstacle(obstacle, width):\n",
    "    centroid_test = get_centroid(obstacle)\n",
    "    directions = obstacle-centroid_test\n",
    "    normed_directions = directions/np.linalg.norm(directions, axis=1)[:, np.newaxis]\n",
    "    distances = width + np.sqrt(np.sum(directions**2, axis=1))\n",
    "    new_obstacle = centroid_test + normed_directions*distances[:, np.newaxis]\n",
    "    return new_obstacle"
   ]
  },
  {
   "cell_type": "code",
   "execution_count": 214,
   "metadata": {},
   "outputs": [
    {
     "data": {
      "text/plain": [
       "(array([10, 10]), array([0, 0]))"
      ]
     },
     "execution_count": 214,
     "metadata": {},
     "output_type": "execute_result"
    }
   ],
   "source": [
    "# file = '../data/robot_data.json'\n",
    "# file = '../data/robot-test-25.json'\n",
    "file = \"../data/robot_my_test.json\"\n",
    "\n",
    "with open(file, 'r') as f:\n",
    "    data = json.load(f)\n",
    "    \n",
    "start, finish = np.array(data['start']), np.array(data['finish'])\n",
    "obstacles = data['obstacles']\n",
    "start, finish"
   ]
  },
  {
   "cell_type": "code",
   "execution_count": 215,
   "metadata": {
    "ExecuteTime": {
     "end_time": "2021-11-19T08:31:53.526056Z",
     "start_time": "2021-11-19T08:31:53.496068Z"
    },
    "scrolled": true
   },
   "outputs": [
    {
     "name": "stdout",
     "output_type": "stream",
     "text": [
      "(start, curr_step)  (array([6.46446609, 6.46446609]), array([5.75735931, 5.75735931]))\n",
      "[5.90421737 6.02873479] [6.95938615 3.90861885] dist:  0.7337940308455553\n",
      "(start, curr_step)  (array([6.46446609, 6.46446609]), array([5.75735931, 5.75735931]))\n",
      "[10.0919145   6.53939193] [5.90421737 6.02873479] dist:  0.5917616436973501\n",
      "(start, curr_step)  (array([7.45711304, 6.58551168]), array([6.7075598 , 5.92356762]))\n",
      "[10.0919145   6.53939193] [5.90421737 6.02873479] dist:  0.6439726013928067\n",
      "(start, curr_step)  (array([8.44975999, 6.70655727]), array([7.66648908, 6.08487674]))\n",
      "[10.0919145   6.53939193] [5.90421737 6.02873479] dist:  0.6982830919080752\n",
      "(start, curr_step)  (array([9.44240694, 6.82760285]), array([8.63205725, 6.24165629]))\n",
      "[10.0919145   6.53939193] [5.90421737 6.02873479] dist:  0.7542397087475962\n",
      "(start, curr_step)  (array([10.43505389,  6.94864844]), array([9.60270721, 6.39439308]))\n",
      "[10.0919145   6.53939193] [5.90421737 6.02873479] dist:  0.811502000469201\n",
      "(start, curr_step)  (array([8.87644621, 5.4913722 ]), array([8.02602799, 4.96526492]))\n",
      "[6.95938615 3.90861885] [10.0919145   6.53939193] dist:  0.14482108988599351\n",
      "(start, curr_step)  (array([8.11067504, 4.84825905]), array([7.25233606, 4.33517602]))\n",
      "[6.95938615 3.90861885] [10.0919145   6.53939193] dist:  0.13110625257345665\n",
      "(start, curr_step)  (array([7.34490387, 4.2051459 ]), array([6.47707116, 3.70828941]))\n",
      "[5.91862665 4.05812382] [8.09284767 3.53713907] dist:  0.6935035208991999\n",
      "(start, curr_step)  (array([7.34490387, 4.2051459 ]), array([6.47707116, 3.70828941]))\n",
      "[5.90421737 6.02873479] [6.95938615 3.90861885] dist:  0.47806490856189227\n",
      "(start, curr_step)  (array([7.34490387, 4.2051459 ]), array([6.47707116, 3.70828941]))\n",
      "[6.95938615 3.90861885] [10.0919145   6.53939193] dist:  0.11742899281719442\n",
      "(start, curr_step)  (array([7.34490387, 4.2051459 ]), array([6.57913271, 3.56203275]))\n",
      "[5.91862665 4.05812382] [8.09284767 3.53713907] dist:  0.5913155289112264\n",
      "(start, curr_step)  (array([8.31737518, 3.97212326]), array([7.41499821, 3.5411757 ]))\n",
      "[5.91862665 4.05812382] [8.09284767 3.53713907] dist:  0.7552606555005994\n",
      "(start, curr_step)  (array([8.36216951, 3.36571688]), array([7.43449253, 2.99233315]))\n",
      "[8.09284767 3.53713907] [7.52747211 1.90384761] dist:  0.4116351829185176\n",
      "(start, curr_step)  (array([7.79346048, 3.86628977]), array([6.89763807, 3.42187756]))\n",
      "[5.91862665 4.05812382] [8.09284767 3.53713907] dist:  0.39056927206216085\n",
      "(start, curr_step)  (array([8.76593179, 3.63326713]), array([7.84213795, 3.25037688]))\n",
      "[8.09284767 3.53713907] [7.52747211 1.90384761] dist:  0.8086012752886202\n",
      "(start, curr_step)  (array([8.19986812, 4.12854702]), array([7.30669108, 3.67884181]))\n",
      "[5.91862665 4.05812382] [8.09284767 3.53713907] dist:  0.9296769439667155\n",
      "(start, curr_step)  (array([8.25191029, 3.50461493]), array([7.33148115, 3.11370548]))\n",
      "[8.09284767 3.53713907] [7.52747211 1.90384761] dist:  0.21693829289619773\n",
      "(start, curr_step)  (array([7.69132061, 3.9891836 ]), array([6.80361756, 3.52876716]))\n",
      "[5.91862665 4.05812382] [8.09284767 3.53713907] dist:  0.5286238768624101\n",
      "(start, curr_step)  (array([8.66379192, 3.75616095]), array([7.74630783, 3.35838848]))\n",
      "[8.09284767 3.53713907] [7.52747211 1.90384761] dist:  0.6349488885578347\n",
      "(start, curr_step)  (array([7.21856405, 3.77442791]), array([6.33239343, 3.31106884]))\n",
      "[5.91862665 4.05812382] [8.09284767 3.53713907] dist:  0.04113326052875857\n",
      "(start, curr_step)  (array([7.21856405, 3.77442791]), array([6.33239343, 3.31106884]))\n",
      "[7.52747211 1.90384761] [5.91862665 4.05812382] dist:  0.8830195330521521\n",
      "(start, curr_step)  (array([8.19103536, 3.54140527]), array([7.27315121, 3.14455681]))\n",
      "[8.09284767 3.53713907] [7.52747211 1.90384761] dist:  0.1239069811322094\n",
      "(start, curr_step)  (array([7.63336557, 4.0203874 ]), array([6.74858242, 3.55438443]))\n",
      "[5.91862665 4.05812382] [8.09284767 3.53713907] dist:  0.550354050952479\n",
      "(start, curr_step)  (array([8.60583688, 3.78736476]), array([7.69055308, 3.38455517]))\n",
      "[5.91862665 4.05812382] [8.09284767 3.53713907] dist:  0.5997914699368564\n",
      "(start, curr_step)  (array([8.64077705, 3.20644076]), array([7.70324591, 2.8585394 ]))\n",
      "[8.09284767 3.53713907] [7.52747211 1.90384761] dist:  0.8106729553529036\n",
      "(start, curr_step)  (array([8.06040904, 3.73133356]), array([7.15292766, 3.31124127]))\n",
      "[5.91862665 4.05812382] [8.09284767 3.53713907] dist:  0.2924066970776709\n",
      "(start, curr_step)  (array([8.10037177, 3.13716311]), array([7.16786318, 2.7760153 ]))\n",
      "[8.09284767 3.53713907] [7.52747211 1.90384761] dist:  0.1807796960198396\n",
      "(start, curr_step)  (array([8.42748514, 4.08214821]), array([7.52750738, 3.6462124 ]))\n",
      "[5.91862665 4.05812382] [8.09284767 3.53713907] dist:  0.9594943723809477\n",
      "(start, curr_step)  (array([8.47453681, 3.47018165]), array([7.54911718, 3.09123772]))\n",
      "[8.09284767 3.53713907] [7.52747211 1.90384761] dist:  0.5097503790591358\n",
      "(start, curr_step)  (array([7.90780633, 3.96678837]), array([7.01396248, 3.51840999]))\n",
      "[5.91862665 4.05812382] [8.09284767 3.53713907] dist:  0.5815468059285649\n",
      "(start, curr_step)  (array([8.88027764, 3.73376573]), array([7.95844567, 3.34617598]))\n",
      "[8.09284767 3.53713907] [7.52747211 1.90384761] dist:  0.9132895923454463\n",
      "(start, curr_step)  (array([7.42438818, 3.77271502]), array([6.53288676, 3.31969711]))\n",
      "[5.91862665 4.05812382] [8.09284767 3.53713907] dist:  0.11310525389300598\n",
      "(start, curr_step)  (array([8.39685949, 3.53969238]), array([7.47538796, 3.15124647]))\n",
      "[8.09284767 3.53713907] [7.52747211 1.90384761] dist:  0.3851649569798945\n",
      "(start, curr_step)  (array([7.83460475, 4.02748565]), array([6.94523665, 3.57029382]))\n",
      "[5.91862665 4.05812382] [8.09284767 3.53713907] dist:  0.6392149649319756\n",
      "(start, curr_step)  (array([8.80707606, 3.79446301]), array([7.88868791, 3.39878232]))\n",
      "[8.09284767 3.53713907] [7.52747211 1.90384761] dist:  0.8000224104097116\n",
      "(start, curr_step)  (array([7.35893473, 3.8183234 ]), array([6.47130738, 3.35776105]))\n",
      "[5.91862665 4.05812382] [8.09284767 3.53713907] dist:  0.15644125495743136\n",
      "(start, curr_step)  (array([8.33140604, 3.58530076]), array([7.41284876, 3.19001285]))\n",
      "[8.09284767 3.53713907] [7.52747211 1.90384761] dist:  0.28384240591985727\n",
      "(start, curr_step)  (array([7.77247223, 4.06669078]), array([6.88642506, 3.6030957 ]))\n",
      "[5.91862665 4.05812382] [8.09284767 3.53713907] dist:  0.6698886352263833\n",
      "(start, curr_step)  (array([8.74494354, 3.83366814]), array([7.82908472, 3.43216769]))\n",
      "[5.91862665 4.05812382] [8.09284767 3.53713907] dist:  0.7291699343804962\n",
      "(start, curr_step)  (array([8.77971648, 3.25319513]), array([7.84201811, 2.90574475]))\n",
      "[8.09284767 3.53713907] [7.52747211 1.90384761] dist:  0.9605249999237273\n",
      "(start, curr_step)  (array([8.19868191, 3.77953084]), array([7.29053396, 3.36088145]))\n",
      "[5.91862665 4.05812382] [8.09284767 3.53713907] dist:  0.42082186738146904\n",
      "(start, curr_step)  (array([8.23846139, 3.1858339 ]), array([7.30576955, 2.82515961]))\n",
      "[8.09284767 3.53713907] [7.52747211 1.90384761] dist:  0.3307832154324576\n",
      "(start, curr_step)  (array([7.66484674, 3.69643549]), array([6.76411872, 3.26205198]))\n",
      "[5.91862665 4.05812382] [8.09284767 3.53713907] dist:  0.08726228391633521\n",
      "(start, curr_step)  (array([8.63731805, 3.46341285]), array([7.70915612, 3.09123622]))\n",
      "[8.09284767 3.53713907] [7.52747211 1.90384761] dist:  0.7130859769783543\n",
      "(start, curr_step)  (array([8.06706802, 3.96710561]), array([7.16970463, 3.52581326]))\n",
      "[5.91862665 4.05812382] [8.09284767 3.53713907] dist:  0.6457074779866803\n",
      "(start, curr_step)  (array([8.1152909 , 3.35229135]), array([7.19104247, 2.97049974]))\n",
      "[8.09284767 3.53713907] [7.52747211 1.90384761] dist:  0.10911607998180406\n",
      "(start, curr_step)  (array([7.55121236, 3.84364999]), array([6.66002044, 3.39002352]))\n",
      "[5.91862665 4.05812382] [8.09284767 3.53713907] dist:  0.2648859901849731\n",
      "(start, curr_step)  (array([8.52368367, 3.61062734]), array([7.60288915, 3.22057933]))\n",
      "[8.09284767 3.53713907] [7.52747211 1.90384761] dist:  0.515919542626272\n",
      "(start, curr_step)  (array([7.96166348, 4.09796463]), array([7.07252993, 3.64031682]))\n",
      "[5.91862665 4.05812382] [8.09284767 3.53713907] dist:  0.7893103307341935\n",
      "(start, curr_step)  (array([8.93413479, 3.86494199]), array([8.01633512, 3.46789823]))\n",
      "[8.09284767 3.53713907] [7.52747211 1.90384761] dist:  0.9326665505482468\n",
      "(start, curr_step)  (array([7.48635024, 3.8881151 ]), array([6.59890128, 3.42720911]))\n",
      "[5.91862665 4.05812382] [8.09284767 3.53713907] dist:  0.3053165665216776\n",
      "(start, curr_step)  (array([8.45882155, 3.65509246]), array([7.54085479, 3.25843515]))\n",
      "[8.09284767 3.53713907] [7.52747211 1.90384761] dist:  0.4164976490015642\n",
      "(start, curr_step)  (array([7.90001724, 4.13623506]), array([7.01409956, 3.67239256]))\n",
      "[5.91862665 4.05812382] [8.09284767 3.53713907] dist:  0.8177333341508567\n",
      "(start, curr_step)  (array([8.87248855, 3.90321242]), array([7.95714756, 3.5005328 ]))\n",
      "[5.91862665 4.05812382] [8.09284767 3.53713907] dist:  0.888872701063091\n",
      "(start, curr_step)  (array([7.97094885, 2.97156061]), array([7.03394334, 2.62224603]))\n",
      "[8.09284767 3.53713907] [7.52747211 1.90384761] dist:  0.09052974342176039\n",
      "(start, curr_step)  (array([8.29806222, 3.91654572]), array([7.39373012, 3.48971618]))\n",
      "[5.91862665 4.05812382] [8.09284767 3.53713907] dist:  0.6659883385579043\n",
      "(start, curr_step)  (array([8.34120581, 3.31426708]), array([7.41187809, 2.94501108]))\n",
      "[8.09284767 3.53713907] [7.52747211 1.90384761] dist:  0.4061185170104383\n",
      "(start, curr_step)  (array([7.77081118, 3.81825401]), array([6.87330318, 3.37725584]))\n",
      "[5.91862665 4.05812382] [8.09284767 3.53713907] dist:  0.3108700908237561\n",
      "(start, curr_step)  (array([8.74328249, 3.58523137]), array([7.81804862, 3.2058341 ]))\n",
      "[8.09284767 3.53713907] [7.52747211 1.90384761] dist:  0.7983185585811926\n",
      "(start, curr_step)  (array([8.17577223, 4.08339598]), array([7.28114859, 3.63657549]))\n",
      "[5.91862665 4.05812382] [8.09284767 3.53713907] dist:  0.8562255496809542\n",
      "(start, curr_step)  (array([8.22655345, 3.46244631]), array([7.30486336, 3.07451928]))\n",
      "[8.09284767 3.53713907] [7.52747211 1.90384761] dist:  0.20264150712662804\n"
     ]
    }
   ],
   "source": [
    "robot_width = 0.1\n",
    "obstacles_new = np.array([widther_obstacle(obs, robot_width) for obs in obstacles])\n",
    "\n",
    "curr_start = start\n",
    "my_path = [curr_start]\n",
    "max_iteration = 100\n",
    "\n",
    "while max_iteration >= 0 and (curr_start!=finish).all():\n",
    "    curr_start = get_next_step(finish, curr_start, obstacles_new)\n",
    "    my_path.append(curr_start)\n",
    "    max_iteration -= 1"
   ]
  },
  {
   "cell_type": "code",
   "execution_count": 216,
   "metadata": {},
   "outputs": [
    {
     "data": {
      "image/png": "[encoded data removed]",
      "text/plain": [
       "<Figure size 1080x360 with 1 Axes>"
      ]
     },
     "metadata": {
      "needs_background": "light"
     },
     "output_type": "display_data"
    }
   ],
   "source": [
    "plot_path(obstacles_new, my_path)"
   ]
  },
  {
   "cell_type": "code",
   "execution_count": 217,
   "metadata": {
    "ExecuteTime": {
     "end_time": "2021-11-19T08:31:54.025146Z",
     "start_time": "2021-11-19T08:31:53.893983Z"
    }
   },
   "outputs": [
    {
     "name": "stdout",
     "output_type": "stream",
     "text": [
      "(6.046027424768811, 6.046027424768811)\n",
      "(5.9455953583493875, 5.9455953583493875)\n"
     ]
    },
    {
     "data": {
      "text/plain": [
       "[]"
      ]
     },
     "execution_count": 217,
     "metadata": {},
     "output_type": "execute_result"
    },
    {
     "data": {
      "image/png": "[encoded data removed]",
      "text/plain": [
       "<Figure size 432x288 with 1 Axes>"
      ]
     },
     "metadata": {
      "needs_background": "light"
     },
     "output_type": "display_data"
    }
   ],
   "source": [
    "\n",
    "ar = np.array([[6.46446609, 6.46446609], [5.75735931, 5.75735931]])\n",
    "cross2 = np.array([[5.90421737, 6.02873479], [6.95938615, 3.90861885]])\n",
    "cross1 = np.array([[10.0919145,   6.53939193], [5.90421737, 6.02873479]])\n",
    "\n",
    "l1 = line_intersection((cross1[0], cross1[1]), ar)\n",
    "print(l1)\n",
    "l2 = line_intersection((cross2[0], cross2[1]), ar)\n",
    "print(l2)\n",
    "\n",
    "plt.plot(ar[:,0], ar[:,1])\n",
    "plt.plot(cross1[:,0], cross1[:,1], c='r')\n",
    "plt.plot(cross2[:,0], cross2[:,1], c='r')\n",
    "plt.grid()\n",
    "plt.plot()"
   ]
  },
  {
   "cell_type": "code",
   "execution_count": 218,
   "metadata": {
    "ExecuteTime": {
     "end_time": "2021-11-19T08:31:57.214583Z",
     "start_time": "2021-11-19T08:31:57.199802Z"
    }
   },
   "outputs": [
    {
     "data": {
      "text/plain": [
       "True"
      ]
     },
     "execution_count": 218,
     "metadata": {},
     "output_type": "execute_result"
    }
   ],
   "source": [
    "check_polyline(polyline=np.array(my_path), obstacles=np.array([np.array(li) for li in obstacles]))"
   ]
  },
  {
   "cell_type": "code",
   "execution_count": null,
   "metadata": {},
   "outputs": [],
   "source": []
  }
 ],
 "metadata": {
  "kernelspec": {
   "display_name": "Python 3 (ipykernel)",
   "language": "python",
   "name": "python3"
  },
  "language_info": {
   "codemirror_mode": {
    "name": "ipython",
    "version": 3
   },
   "file_extension": ".py",
   "mimetype": "text/x-python",
   "name": "python",
   "nbconvert_exporter": "python",
   "pygments_lexer": "ipython3",
   "version": "3.8.9"
  },
  "toc": {
   "base_numbering": 1,
   "nav_menu": {},
   "number_sections": true,
   "sideBar": true,
   "skip_h1_title": false,
   "title_cell": "Table of Contents",
   "title_sidebar": "Contents",
   "toc_cell": false,
   "toc_position": {},
   "toc_section_display": true,
   "toc_window_display": false
  },
  "varInspector": {
   "cols": {
    "lenName": 16,
    "lenType": 16,
    "lenVar": 40
   },
   "kernels_config": {
    "python": {
     "delete_cmd_postfix": "",
     "delete_cmd_prefix": "del ",
     "library": "var_list.py",
     "varRefreshCmd": "print(var_dic_list())"
    },
    "r": {
     "delete_cmd_postfix": ") ",
     "delete_cmd_prefix": "rm(",
     "library": "var_list.r",
     "varRefreshCmd": "cat(var_dic_list()) "
    }
   },
   "types_to_exclude": [
    "module",
    "function",
    "builtin_function_or_method",
    "instance",
    "_Feature"
   ],
   "window_display": false
  }
 },
 "nbformat": 4,
 "nbformat_minor": 4
}
