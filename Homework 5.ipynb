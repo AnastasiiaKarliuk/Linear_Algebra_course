{
 "cells": [
  {
   "cell_type": "markdown",
   "id": "b11e92eb",
   "metadata": {},
   "source": [
    "# Ex 1"
   ]
  },
  {
   "cell_type": "code",
   "execution_count": 1,
   "id": "906d0005",
   "metadata": {},
   "outputs": [],
   "source": [
    "import numpy as np\n",
    "\n",
    "\n",
    "def get_rot_matrix(alpha):\n",
    "    al = np.deg2rad(alpha)\n",
    "    rot = np.array([[np.cos(al), -np.sin(al)], \n",
    "                    [np.sin(al), np.cos(al)]])\n",
    "    return rot"
   ]
  },
  {
   "cell_type": "code",
   "execution_count": 2,
   "id": "62e366cc",
   "metadata": {},
   "outputs": [
    {
     "data": {
      "text/plain": [
       "array([[ 0.70710678,  0.70710678],\n",
       "       [-0.70710678,  0.70710678]])"
      ]
     },
     "execution_count": 2,
     "metadata": {},
     "output_type": "execute_result"
    }
   ],
   "source": [
    "get_rot_matrix(alpha=-45)"
   ]
  },
  {
   "cell_type": "code",
   "execution_count": 3,
   "id": "975eb9db",
   "metadata": {},
   "outputs": [
    {
     "data": {
      "text/plain": [
       "array([[ 0.8660254, -0.5      ],\n",
       "       [ 0.5      ,  0.8660254]])"
      ]
     },
     "execution_count": 3,
     "metadata": {},
     "output_type": "execute_result"
    }
   ],
   "source": [
    "get_rot_matrix(alpha=30)"
   ]
  },
  {
   "cell_type": "markdown",
   "id": "c42b254b",
   "metadata": {},
   "source": [
    "## check"
   ]
  },
  {
   "cell_type": "code",
   "execution_count": 4,
   "id": "ebffef98",
   "metadata": {},
   "outputs": [],
   "source": [
    "import matplotlib.pyplot as plt\n",
    "from matplotlib.patches import Polygon\n",
    "\n",
    "\n",
    "def plot_polygons(p_inp, p_out, x_lim, y_lim):\n",
    "    fig,(ax1, ax2) = plt.subplots(1, 2, figsize=(15,5))\n",
    "    ax1.add_patch(p_inp)\n",
    "    ax1.set_xlim(x_lim)\n",
    "    ax1.set_ylim(y_lim)\n",
    "    ax2.add_patch(p_out)\n",
    "    ax2.set_xlim(x_lim)\n",
    "    ax2.set_ylim(y_lim)\n",
    "    ax1.grid()\n",
    "    ax2.grid()\n",
    "    plt.show()"
   ]
  },
  {
   "cell_type": "code",
   "execution_count": 5,
   "id": "28d53c57",
   "metadata": {},
   "outputs": [],
   "source": [
    "obj_input = np.array([[1, 0], [1, 2], [3, 2], [3, 0]])\n",
    "\n",
    "rot_30 = get_rot_matrix(alpha=45)\n",
    "obj_out = rot_30.dot(obj_input.T).T"
   ]
  },
  {
   "cell_type": "code",
   "execution_count": 6,
   "id": "4a86d6bd",
   "metadata": {},
   "outputs": [
    {
     "data": {
      "image/png": "[encoded data removed]",
      "text/plain": [
       "<Figure size 1080x360 with 2 Axes>"
      ]
     },
     "metadata": {
      "needs_background": "light"
     },
     "output_type": "display_data"
    }
   ],
   "source": [
    "p_inp = Polygon(obj_input, facecolor = 'orange')\n",
    "p_out = Polygon(obj_out, facecolor = 'red')\n",
    "\n",
    "plot_polygons(p_inp, p_out, (-3, 6), (0, 6))"
   ]
  },
  {
   "cell_type": "markdown",
   "id": "dc883d60",
   "metadata": {},
   "source": [
    "# Ex 2"
   ]
  },
  {
   "cell_type": "code",
   "execution_count": 7,
   "id": "6000c7a7",
   "metadata": {},
   "outputs": [],
   "source": [
    "def rot_around_vec(data, alpha, vec):\n",
    "    rot_m = get_rot_matrix(alpha)\n",
    "    rot_m_vec = np.array([[rot_m[0][0], rot_m[0][1], vec[0]],\n",
    "                         [rot_m[1][0], rot_m[1][1], vec[1]], \n",
    "                         [0, 0, 1]])\n",
    "    minus_vec = np.array([[1, 0, -vec[0]],\n",
    "                         [0, 1, -vec[1]], \n",
    "                         [0, 0, 1]])\n",
    "    rt_matrix = rot_m_vec.dot(minus_vec)\n",
    "    return rt_matrix"
   ]
  },
  {
   "cell_type": "markdown",
   "id": "05e37d16",
   "metadata": {},
   "source": [
    "## a"
   ]
  },
  {
   "cell_type": "code",
   "execution_count": 8,
   "id": "123ecec7",
   "metadata": {},
   "outputs": [],
   "source": [
    "c = np.array([2, 3])\n",
    "alpha = -90"
   ]
  },
  {
   "cell_type": "code",
   "execution_count": 9,
   "id": "61fd4b69",
   "metadata": {
    "scrolled": true
   },
   "outputs": [
    {
     "data": {
      "text/plain": [
       "array([[ 6.123234e-17,  1.000000e+00, -1.000000e+00],\n",
       "       [-1.000000e+00,  6.123234e-17,  5.000000e+00],\n",
       "       [ 0.000000e+00,  0.000000e+00,  1.000000e+00]])"
      ]
     },
     "execution_count": 9,
     "metadata": {},
     "output_type": "execute_result"
    }
   ],
   "source": [
    "obj_input = np.array([[2, 3, 1], [1, 2, 1], [4, 2, 1]])\n",
    "rt_matrix = rot_around_vec(obj_input, alpha, c)\n",
    "obj_out = rt_matrix.dot(obj_input.T).T\n",
    "\n",
    "rt_matrix"
   ]
  },
  {
   "cell_type": "code",
   "execution_count": 10,
   "id": "fe0c5833",
   "metadata": {},
   "outputs": [
    {
     "data": {
      "image/png": "[encoded data removed]",
      "text/plain": [
       "<Figure size 1080x360 with 2 Axes>"
      ]
     },
     "metadata": {
      "needs_background": "light"
     },
     "output_type": "display_data"
    }
   ],
   "source": [
    "p_inp = Polygon(np.delete(obj_input, 2, 1), facecolor = 'orange')\n",
    "p_out = Polygon(np.delete(obj_out, 2, 1), facecolor = 'red')\n",
    "plot_polygons(p_inp, p_out, (0, 6), (0, 6))"
   ]
  },
  {
   "cell_type": "markdown",
   "id": "6076bdde",
   "metadata": {},
   "source": [
    "## b"
   ]
  },
  {
   "cell_type": "code",
   "execution_count": 11,
   "id": "88baa5b6",
   "metadata": {},
   "outputs": [],
   "source": [
    "c = np.array([-1, 4])\n",
    "alpha = 45"
   ]
  },
  {
   "cell_type": "code",
   "execution_count": 12,
   "id": "45241128",
   "metadata": {},
   "outputs": [
    {
     "data": {
      "text/plain": [
       "array([[ 0.70710678, -0.70710678,  2.53553391],\n",
       "       [ 0.70710678,  0.70710678,  1.87867966],\n",
       "       [ 0.        ,  0.        ,  1.        ]])"
      ]
     },
     "execution_count": 12,
     "metadata": {},
     "output_type": "execute_result"
    }
   ],
   "source": [
    "obj_input = np.array([[2, 3, 1], [1, 2, 1], [4, 2, 1]])\n",
    "rt_matrix = rot_around_vec(obj_input, alpha, c)\n",
    "obj_out = rt_matrix.dot(obj_input.T).T\n",
    "\n",
    "rt_matrix"
   ]
  },
  {
   "cell_type": "code",
   "execution_count": 13,
   "id": "60b9063d",
   "metadata": {},
   "outputs": [
    {
     "data": {
      "image/png": "[encoded data removed]",
      "text/plain": [
       "<Figure size 1080x360 with 2 Axes>"
      ]
     },
     "metadata": {
      "needs_background": "light"
     },
     "output_type": "display_data"
    }
   ],
   "source": [
    "p_inp = Polygon(np.delete(obj_input, 2, 1), facecolor = 'orange')\n",
    "p_out = Polygon(np.delete(obj_out, 2, 1), facecolor = 'red')\n",
    "plot_polygons(p_inp, p_out, (0, 6), (0, 6))"
   ]
  },
  {
   "cell_type": "markdown",
   "id": "d0f3868c",
   "metadata": {},
   "source": [
    "# Ex 3"
   ]
  },
  {
   "cell_type": "code",
   "execution_count": 14,
   "id": "14275db6",
   "metadata": {},
   "outputs": [],
   "source": [
    "def get_flip_matrix(axis):\n",
    "    return np.array([[-1 if axis==0 else 1, 0],\n",
    "                  [0, -1 if axis==1 else 1]])\n",
    "    \n",
    "    \n",
    "def flip_around_vec(data, axis, v0):\n",
    "    flip_m = get_flip_matrix(axis=axis)\n",
    "    flip_m_vec = np.array([[flip_m[0][0], flip_m[0][1], v0 if not axis else 0],\n",
    "                          [flip_m[1][0], flip_m[1][1], v0 if axis else 0], \n",
    "                          [0, 0, 1]])\n",
    "    minus_vec = np.array([[1, 0, -v0 if not axis else 0],\n",
    "                         [0, 1, -v0 if axis else 0], \n",
    "                         [0, 0, 1]])\n",
    "    flip_matrix = flip_m_vec.dot(minus_vec)\n",
    "    return flip_matrix"
   ]
  },
  {
   "cell_type": "code",
   "execution_count": 15,
   "id": "36d3e77b",
   "metadata": {},
   "outputs": [],
   "source": [
    "x0 = 4"
   ]
  },
  {
   "cell_type": "code",
   "execution_count": 16,
   "id": "a15adaa3",
   "metadata": {},
   "outputs": [
    {
     "data": {
      "text/plain": [
       "array([[-1,  0,  8],\n",
       "       [ 0,  1,  0],\n",
       "       [ 0,  0,  1]])"
      ]
     },
     "execution_count": 16,
     "metadata": {},
     "output_type": "execute_result"
    }
   ],
   "source": [
    "obj_input = np.array([[1, 3, 1], [1, 2, 1], [4, 2, 1]])\n",
    "rt_matrix = flip_around_vec(obj_input, axis=0, v0=x0)\n",
    "obj_out = rt_matrix.dot(obj_input.T).T\n",
    "\n",
    "rt_matrix"
   ]
  },
  {
   "cell_type": "code",
   "execution_count": 17,
   "id": "e145a1a7",
   "metadata": {},
   "outputs": [
    {
     "data": {
      "image/png": "[encoded data removed]",
      "text/plain": [
       "<Figure size 1080x360 with 2 Axes>"
      ]
     },
     "metadata": {
      "needs_background": "light"
     },
     "output_type": "display_data"
    }
   ],
   "source": [
    "p_inp = Polygon(np.delete(obj_input, 2, 1), facecolor = 'orange')\n",
    "p_out = Polygon(np.delete(obj_out, 2, 1), facecolor = 'red')\n",
    "plot_polygons(p_inp, p_out, (0, 8), (0, 6))"
   ]
  },
  {
   "cell_type": "code",
   "execution_count": null,
   "id": "421b1a35",
   "metadata": {},
   "outputs": [],
   "source": []
  }
 ],
 "metadata": {
  "kernelspec": {
   "display_name": "Python 3 (ipykernel)",
   "language": "python",
   "name": "python3"
  },
  "language_info": {
   "codemirror_mode": {
    "name": "ipython",
    "version": 3
   },
   "file_extension": ".py",
   "mimetype": "text/x-python",
   "name": "python",
   "nbconvert_exporter": "python",
   "pygments_lexer": "ipython3",
   "version": "3.8.9"
  }
 },
 "nbformat": 4,
 "nbformat_minor": 5
}
