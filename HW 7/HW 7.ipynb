{
 "cells": [
  {
   "cell_type": "markdown",
   "id": "e204f971",
   "metadata": {},
   "source": [
    "# Ex 1"
   ]
  },
  {
   "cell_type": "code",
   "execution_count": 1,
   "id": "a2c03934",
   "metadata": {},
   "outputs": [],
   "source": [
    "import numpy as np"
   ]
  },
  {
   "cell_type": "code",
   "execution_count": 2,
   "id": "762867d9",
   "metadata": {},
   "outputs": [],
   "source": [
    "im_size = (1200, 800)\n",
    "u0, v0 = [i/2 for i in im_size]\n",
    "angle = np.pi/2"
   ]
  },
  {
   "cell_type": "code",
   "execution_count": 3,
   "id": "d24de5b7",
   "metadata": {},
   "outputs": [
    {
     "data": {
      "text/plain": [
       "600"
      ]
     },
     "execution_count": 3,
     "metadata": {},
     "output_type": "execute_result"
    }
   ],
   "source": [
    "f = round(u0/np.tan(angle/2))\n",
    "f"
   ]
  },
  {
   "cell_type": "code",
   "execution_count": 4,
   "id": "f4ca6a8a",
   "metadata": {},
   "outputs": [
    {
     "data": {
      "text/plain": [
       "array([[600.,   0., 600.],\n",
       "       [  0., 600., 400.],\n",
       "       [  0.,   0.,   1.]])"
      ]
     },
     "execution_count": 4,
     "metadata": {},
     "output_type": "execute_result"
    }
   ],
   "source": [
    "m = np.array([\n",
    "    [f, 0, u0],\n",
    "    [0, f, v0],\n",
    "    [0, 0, 1]\n",
    "])\n",
    "m"
   ]
  },
  {
   "cell_type": "markdown",
   "id": "f782f367",
   "metadata": {},
   "source": [
    "# Ex 2"
   ]
  },
  {
   "cell_type": "code",
   "execution_count": 5,
   "id": "fdcef014",
   "metadata": {},
   "outputs": [],
   "source": [
    "vec = np.array([3, -1, 10])\n",
    "f = 500\n",
    "im_camera = np.array([800, 600])"
   ]
  },
  {
   "cell_type": "code",
   "execution_count": 6,
   "id": "7ca9365c",
   "metadata": {},
   "outputs": [
    {
     "data": {
      "text/plain": [
       "array([550., 250.,   1.])"
      ]
     },
     "execution_count": 6,
     "metadata": {},
     "output_type": "execute_result"
    }
   ],
   "source": [
    "u0, v0 = im_camera/2\n",
    "m_cam = np.array([\n",
    "    [f, 0, u0],\n",
    "    [0, f, v0],\n",
    "    [0, 0, 1]\n",
    "])\n",
    "\n",
    "vec_cam = m_cam@vec\n",
    "vec_cam = vec_cam/vec_cam[-1]\n",
    "vec_cam"
   ]
  },
  {
   "cell_type": "markdown",
   "id": "1cacc3ab",
   "metadata": {},
   "source": [
    "# Ex 3"
   ]
  },
  {
   "cell_type": "code",
   "execution_count": 7,
   "id": "c7e222f8",
   "metadata": {},
   "outputs": [],
   "source": [
    "im_camera = np.array([1200, 800])\n",
    "u0, v0 = im_camera/2\n",
    "f = 700\n",
    "v = 100"
   ]
  },
  {
   "cell_type": "code",
   "execution_count": 8,
   "id": "690e46fb",
   "metadata": {},
   "outputs": [
    {
     "data": {
      "text/plain": [
       "23.19859051364819"
      ]
     },
     "execution_count": 8,
     "metadata": {},
     "output_type": "execute_result"
    }
   ],
   "source": [
    "alpha = np.arctan((v0-v)/f)\n",
    "alpha = alpha*180/np.pi\n",
    "alpha"
   ]
  },
  {
   "cell_type": "markdown",
   "id": "937c1bd5",
   "metadata": {},
   "source": [
    "# Ex 4 "
   ]
  },
  {
   "cell_type": "code",
   "execution_count": 9,
   "id": "0748145f",
   "metadata": {},
   "outputs": [],
   "source": [
    "np.set_printoptions(suppress=True)\n",
    "\n",
    "v = 2.5\n",
    "a = 5"
   ]
  },
  {
   "cell_type": "code",
   "execution_count": 10,
   "id": "3f0eecf1",
   "metadata": {},
   "outputs": [],
   "source": [
    "alpha1 = np.pi/2 + np.arctan(a/a)\n",
    "alpha2 = -np.pi/2 - np.arctan(v/np.sqrt(a**2+a**2))\n",
    "alpha3 = 0\n",
    "\n",
    "s1, c1 = np.sin(alpha1), np.cos(alpha1)\n",
    "s2, c2 = np.sin(alpha2), np.cos(alpha2)\n",
    "s3, c3 = np.sin(alpha3), np.cos(alpha3)"
   ]
  },
  {
   "cell_type": "code",
   "execution_count": 11,
   "id": "8e5f06c3",
   "metadata": {},
   "outputs": [],
   "source": [
    "r = np.array([\n",
    "    [c1*c3 - c2*s1*s3, -c1*s3 - c2*c3*s1, s1*s2],\n",
    "    [c3*s1 + c1*c2*s3, c1*c2*c3 - s1*s3, -c1*s2],\n",
    "    [s2*s3, c3*s2, c2]\n",
    "])"
   ]
  },
  {
   "cell_type": "code",
   "execution_count": 12,
   "id": "84052765",
   "metadata": {},
   "outputs": [
    {
     "data": {
      "text/plain": [
       "array([[-0.70710678,  0.70710678, -0.        , -0.        ],\n",
       "       [ 0.23570226,  0.23570226, -0.94280904,  0.        ],\n",
       "       [-0.66666667, -0.66666667, -0.33333333,  7.5       ]])"
      ]
     },
     "execution_count": 12,
     "metadata": {},
     "output_type": "execute_result"
    }
   ],
   "source": [
    "matr = np.hstack((r.T, -r.T@np.array([5, 5, 2.5]).reshape((3, 1))))\n",
    "matr"
   ]
  },
  {
   "cell_type": "code",
   "execution_count": 13,
   "id": "620c7acc",
   "metadata": {},
   "outputs": [
    {
     "data": {
      "text/plain": [
       "array([-0. ,  0. ,  7.5])"
      ]
     },
     "execution_count": 13,
     "metadata": {},
     "output_type": "execute_result"
    }
   ],
   "source": [
    "inp_vec = np.array([0, 0, 0, 1])\n",
    "\n",
    "matr@inp_vec"
   ]
  },
  {
   "cell_type": "code",
   "execution_count": null,
   "id": "e04bd146",
   "metadata": {},
   "outputs": [],
   "source": []
  }
 ],
 "metadata": {
  "kernelspec": {
   "display_name": "Python 3 (ipykernel)",
   "language": "python",
   "name": "python3"
  },
  "language_info": {
   "codemirror_mode": {
    "name": "ipython",
    "version": 3
   },
   "file_extension": ".py",
   "mimetype": "text/x-python",
   "name": "python",
   "nbconvert_exporter": "python",
   "pygments_lexer": "ipython3",
   "version": "3.8.9"
  }
 },
 "nbformat": 4,
 "nbformat_minor": 5
}
