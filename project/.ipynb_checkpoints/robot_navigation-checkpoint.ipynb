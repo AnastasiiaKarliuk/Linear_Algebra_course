{
 "cells": [
  {
   "cell_type": "code",
   "execution_count": 3,
   "metadata": {
    "ExecuteTime": {
     "end_time": "2021-11-17T08:37:05.719969Z",
     "start_time": "2021-11-17T08:37:05.504487Z"
    }
   },
   "outputs": [],
   "source": [
    "import numpy as np\n",
    "from robot_navigation import is_segments_intersect, check_polyline\n",
    "from matplotlib import pyplot as plt"
   ]
  },
  {
   "cell_type": "markdown",
   "metadata": {},
   "source": [
    "# solution"
   ]
  },
  {
   "cell_type": "code",
   "execution_count": 5,
   "metadata": {
    "ExecuteTime": {
     "end_time": "2021-11-17T08:44:10.717556Z",
     "start_time": "2021-11-17T08:44:10.710040Z"
    }
   },
   "outputs": [
    {
     "data": {
      "text/plain": [
       "{'start': [0, 0],\n",
       " 'finish': [10, 10],\n",
       " 'obstacles': [[[2, 2], [2, 4], [3, 3]], [[5, 4], [4, 6], [6, 5], [7, 4]]]}"
      ]
     },
     "execution_count": 5,
     "metadata": {},
     "output_type": "execute_result"
    }
   ],
   "source": [
    "import json\n",
    "\n",
    "with open('robot_data.json', 'r') as f:\n",
    "    data = json.load(f)\n",
    "    \n",
    "data"
   ]
  },
  {
   "cell_type": "code",
   "execution_count": 22,
   "metadata": {
    "ExecuteTime": {
     "end_time": "2021-11-17T09:01:14.300846Z",
     "start_time": "2021-11-17T09:01:14.292471Z"
    }
   },
   "outputs": [],
   "source": [
    "def calculateDistance(x1,y1,x2,y2):\n",
    "    dist = np.sqrt((x2 - x1)**2 + (y2 - y1)**2)\n",
    "    return dist\n",
    "\n",
    "\n",
    "def line_intersection(line1, line2):\n",
    "    xdiff = (line1[0][0] - line1[1][0], line2[0][0] - line2[1][0])\n",
    "    ydiff = (line1[0][1] - line1[1][1], line2[0][1] - line2[1][1])\n",
    "\n",
    "    def det(a, b):\n",
    "        return a[0] * b[1] - a[1] * b[0]\n",
    "\n",
    "    div = det(xdiff, ydiff)\n",
    "    if div == 0:\n",
    "        raise Exception('lines do not intersect')\n",
    "\n",
    "    d = (det(*line1), det(*line2))\n",
    "    x = det(d, xdiff) / div\n",
    "    y = det(d, ydiff) / div\n",
    "    return x, y\n",
    "\n",
    "def get_crossed_vec(start, curr_step, obstacles):\n",
    "    crossed_vec, dists = [], []\n",
    "    for obs in obstacles:\n",
    "        for vec1, vec2 in zip(obs, np.vstack([obs[1:], obs[0]])):\n",
    "            line1 = np.array((vec1, vec2))\n",
    "            crossed = is_segments_intersect(line1, (start, curr_step))\n",
    "            if crossed:\n",
    "                l1 = vec1 - vec2\n",
    "                l2 = start - curr_step\n",
    "                l1 = line_intersection((vec1, vec2), (start, curr_step))\n",
    "                dist = calculateDistance(x1=l1[0], y1=l1[1], x2=l2[0], y2=l2[1])\n",
    "                crossed_vec.append(line1)\n",
    "                dists.append(dist)\n",
    "                print(crossed_vec)\n",
    "    if len(crossed_vec)>0:\n",
    "#         print(dists)\n",
    "        crossed_vec = crossed_vec[np.argmin(dists)]\n",
    "#         print(crossed_vec)\n",
    "    return crossed_vec\n",
    "\n",
    "def get_angle(vec1, vec2):\n",
    "    norm_v1 = np.linalg.norm(vec1)\n",
    "    norm_v2 = np.linalg.norm(vec2)\n",
    "    cosA = np.cross(vec1, vec2)/(norm_v1*norm_v2)\n",
    "    alpha = np.rad2deg(np.arccos(cosA))\n",
    "    return alpha\n",
    "\n",
    "def get_new_direction(crossed_vec, pure_vector):\n",
    "    a, b = crossed_vec\n",
    "#     print(a, b)\n",
    "    angleAB = get_angle(pure_vector, b-a)\n",
    "    angleBA = get_angle(pure_vector, a-b)\n",
    "    new_dir = b-a if (angleAB<angleBA and ((b-a)>0).any()) else a-b\n",
    "#     print((b-a), (b-a).any()>0)\n",
    "#     print(pure_vector, a-b, b-a, new_dir)\n",
    "    new_dir_normed = new_dir/np.linalg.norm(new_dir)\n",
    "    return new_dir_normed\n",
    "\n",
    "def get_next_step(finish, curr_start, obstacles):\n",
    "    pure_vector = finish - curr_start\n",
    "    pure_vector_normed = pure_vector/np.linalg.norm(pure_vector)\n",
    "    \n",
    "    next_step = curr_start+pure_vector_normed\n",
    "    crossed_vec = get_crossed_vec(curr_start, next_step, obstacles)\n",
    "#     print(f'crossed_vec = {crossed_vec}')\n",
    "    if len(crossed_vec):\n",
    "        new_dir_normed = get_new_direction(crossed_vec, pure_vector)\n",
    "        curr_start = curr_start+new_dir_normed\n",
    "    else:\n",
    "        curr_start = curr_start+pure_vector_normed\n",
    "    return curr_start"
   ]
  },
  {
   "cell_type": "code",
   "execution_count": 23,
   "metadata": {
    "ExecuteTime": {
     "end_time": "2021-11-17T09:01:43.887094Z",
     "start_time": "2021-11-17T09:01:43.882834Z"
    }
   },
   "outputs": [],
   "source": [
    "start, finish = np.array(data['start']), np.array(data['finish'])\n",
    "obstacles = data['obstacles']\n",
    "# obstacles = [[[1, 2], [2, 4], [4, 3], [1, 2]], \n",
    "#              [[5, 4], [4, 6], [6, 5], [7, 4]],\n",
    "#             [[8, 8], [8, 10], [9, 9], [9, 7]]]"
   ]
  },
  {
   "cell_type": "code",
   "execution_count": 24,
   "metadata": {
    "ExecuteTime": {
     "end_time": "2021-11-17T09:03:29.647716Z",
     "start_time": "2021-11-17T09:03:29.616363Z"
    }
   },
   "outputs": [
    {
     "name": "stdout",
     "output_type": "stream",
     "text": [
      "[array([[5, 4],\n",
      "       [4, 6]])]\n",
      "[array([[5, 4],\n",
      "       [4, 6]])]\n",
      "[array([[5, 4],\n",
      "       [4, 6]]), array([[4, 6],\n",
      "       [6, 5]])]\n"
     ]
    }
   ],
   "source": [
    "curr_start = start\n",
    "my_path = [curr_start]\n",
    "\n",
    "max_iteration = 100\n",
    "while max_iteration >= 0 and (curr_start<finish).any():\n",
    "    curr_start = get_next_step(finish, curr_start, obstacles)\n",
    "    my_path.append(curr_start)\n",
    "    max_iteration -= 1"
   ]
  },
  {
   "cell_type": "code",
   "execution_count": 25,
   "metadata": {
    "ExecuteTime": {
     "end_time": "2021-11-17T09:03:30.050679Z",
     "start_time": "2021-11-17T09:03:29.917164Z"
    }
   },
   "outputs": [
    {
     "data": {
      "image/png": "[encoded data removed]",
      "text/plain": [
       "<Figure size 432x432 with 1 Axes>"
      ]
     },
     "metadata": {
      "needs_background": "light"
     },
     "output_type": "display_data"
    }
   ],
   "source": [
    "plt.figure(figsize=(6,6))\n",
    "plt.axis('equal')\n",
    "\n",
    "for ob in obstacles:\n",
    "    ob = list(ob)\n",
    "    ob.append(ob[0])\n",
    "    x,y = zip(*ob)\n",
    "    plt.plot(x, y, c='red')\n",
    "    \n",
    "x,y = zip(*my_path)\n",
    "plt.scatter(x, y)\n",
    "plt.plot(x,y)\n",
    "plt.grid()\n",
    "plt.show()"
   ]
  },
  {
   "cell_type": "code",
   "execution_count": 33,
   "metadata": {
    "ExecuteTime": {
     "end_time": "2021-11-17T09:03:06.964159Z",
     "start_time": "2021-11-17T09:03:06.936910Z"
    }
   },
   "outputs": [
    {
     "name": "stderr",
     "output_type": "stream",
     "text": [
      "/var/folders/10/zlkr3qdd3w9bhj58786j66n00000gn/T/ipykernel_2913/3203563382.py:1: VisibleDeprecationWarning: Creating an ndarray from ragged nested sequences (which is a list-or-tuple of lists-or-tuples-or ndarrays with different lengths or shapes) is deprecated. If you meant to do this, you must specify 'dtype=object' when creating the ndarray.\n",
      "  check_polyline(polyline=np.array(my_path), obstacles=np.array([np.array(li) for li in obstacles]))\n"
     ]
    },
    {
     "data": {
      "text/plain": [
       "True"
      ]
     },
     "execution_count": 33,
     "metadata": {},
     "output_type": "execute_result"
    }
   ],
   "source": [
    "check_polyline(polyline=np.array(my_path), obstacles=np.array([np.array(li) for li in obstacles]))"
   ]
  },
  {
   "cell_type": "code",
   "execution_count": null,
   "metadata": {},
   "outputs": [],
   "source": []
  }
 ],
 "metadata": {
  "kernelspec": {
   "display_name": "Python 3 (ipykernel)",
   "language": "python",
   "name": "python3"
  },
  "language_info": {
   "codemirror_mode": {
    "name": "ipython",
    "version": 3
   },
   "file_extension": ".py",
   "mimetype": "text/x-python",
   "name": "python",
   "nbconvert_exporter": "python",
   "pygments_lexer": "ipython3",
   "version": "3.8.9"
  },
  "toc": {
   "base_numbering": 1,
   "nav_menu": {},
   "number_sections": true,
   "sideBar": true,
   "skip_h1_title": false,
   "title_cell": "Table of Contents",
   "title_sidebar": "Contents",
   "toc_cell": false,
   "toc_position": {},
   "toc_section_display": true,
   "toc_window_display": false
  },
  "varInspector": {
   "cols": {
    "lenName": 16,
    "lenType": 16,
    "lenVar": 40
   },
   "kernels_config": {
    "python": {
     "delete_cmd_postfix": "",
     "delete_cmd_prefix": "del ",
     "library": "var_list.py",
     "varRefreshCmd": "print(var_dic_list())"
    },
    "r": {
     "delete_cmd_postfix": ") ",
     "delete_cmd_prefix": "rm(",
     "library": "var_list.r",
     "varRefreshCmd": "cat(var_dic_list()) "
    }
   },
   "types_to_exclude": [
    "module",
    "function",
    "builtin_function_or_method",
    "instance",
    "_Feature"
   ],
   "window_display": false
  }
 },
 "nbformat": 4,
 "nbformat_minor": 4
}
