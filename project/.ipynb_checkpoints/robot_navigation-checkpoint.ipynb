{
 "cells": [
  {
   "cell_type": "code",
   "execution_count": 1,
   "metadata": {},
   "outputs": [],
   "source": [
    "import numpy as np\n",
    "from robot_navigation import is_segments_intersect, check_polyline\n",
    "from matplotlib import pyplot as plt"
   ]
  },
  {
   "cell_type": "code",
   "execution_count": 2,
   "metadata": {},
   "outputs": [
    {
     "data": {
      "text/plain": [
       "False"
      ]
     },
     "execution_count": 2,
     "metadata": {},
     "output_type": "execute_result"
    }
   ],
   "source": [
    "segment_1 = (np.array([6, 5]), np.array([7, 4])) \n",
    "segment_2 = (np.array([3, 7]), np.array([7, 7]))\n",
    "\n",
    "\n",
    "is_segments_intersect(segment_1, segment_2)"
   ]
  },
  {
   "cell_type": "code",
   "execution_count": 3,
   "metadata": {},
   "outputs": [],
   "source": [
    "obstacles = [\n",
    "    np.array([[2,2], [2,4], [3,3]]),\n",
    "\tnp.array([[5,4], [4,6],[6,5],[7,4]])\n",
    "]"
   ]
  },
  {
   "cell_type": "code",
   "execution_count": 4,
   "metadata": {},
   "outputs": [],
   "source": [
    "path = [np.array([0, 0]), \n",
    "        np.array([2, 0]), \n",
    "        np.array([4, 3]), \n",
    "        np.array([3, 5]), \n",
    "        np.array([7, 7])]"
   ]
  },
  {
   "cell_type": "code",
   "execution_count": 7,
   "metadata": {},
   "outputs": [
    {
     "name": "stdout",
     "output_type": "stream",
     "text": [
      "segments intersect: (array([5, 4]), array([4, 6])) (array([3, 5]), array([7, 7]))\n"
     ]
    },
    {
     "data": {
      "text/plain": [
       "False"
      ]
     },
     "execution_count": 7,
     "metadata": {},
     "output_type": "execute_result"
    }
   ],
   "source": [
    "check_polyline(polyline=path, obstacles=obstacles)"
   ]
  },
  {
   "cell_type": "code",
   "execution_count": 8,
   "metadata": {},
   "outputs": [
    {
     "data": {
      "image/png": "[encoded data removed]",
      "text/plain": [
       "<Figure size 432x432 with 1 Axes>"
      ]
     },
     "metadata": {
      "needs_background": "light"
     },
     "output_type": "display_data"
    }
   ],
   "source": [
    "plt.figure(figsize=(6,6))\n",
    "plt.axis('equal')\n",
    "\n",
    "for ob in obstacles:\n",
    "    ob = list(ob)\n",
    "    ob.append(ob[0])\n",
    "    x,y = zip(*ob)\n",
    "    plt.plot(x, y, c='red')\n",
    "    \n",
    "x,y = zip(*path)\n",
    "plt.plot(x,y,'blue')\n",
    "plt.show()"
   ]
  },
  {
   "cell_type": "code",
   "execution_count": null,
   "metadata": {},
   "outputs": [],
   "source": []
  },
  {
   "cell_type": "markdown",
   "metadata": {},
   "source": [
    "# solution"
   ]
  },
  {
   "cell_type": "code",
   "execution_count": 10,
   "metadata": {},
   "outputs": [
    {
     "data": {
      "text/plain": [
       "{'start': [0, 0],\n",
       " 'finish': [10, 10],\n",
       " 'obstacles': [[[2, 2], [2, 4], [3, 3]], [[5, 4], [4, 6], [6, 5], [7, 4]]]}"
      ]
     },
     "execution_count": 10,
     "metadata": {},
     "output_type": "execute_result"
    }
   ],
   "source": [
    "import json\n",
    "\n",
    "with open('robot_data.json', 'r') as f:\n",
    "    data = json.load(f)\n",
    "    \n",
    "data"
   ]
  },
  {
   "cell_type": "code",
   "execution_count": null,
   "metadata": {},
   "outputs": [],
   "source": []
  },
  {
   "cell_type": "code",
   "execution_count": 104,
   "metadata": {},
   "outputs": [],
   "source": [
    "def get_crossed_vec(start, curr_step, obstacles=obstacles):\n",
    "    crossed_vec = []\n",
    "    for obs in obstacles:\n",
    "        for vec1, vec2 in zip(obs, np.vstack([obs[1:], obs[0]])):\n",
    "            line1 = np.array((vec1, vec2))\n",
    "            crossed = is_segments_intersect(line1, (start, curr_step))\n",
    "            if crossed:\n",
    "                crossed_vec = line1\n",
    "                break\n",
    "        if len(crossed_vec)>0:\n",
    "            break\n",
    "    return crossed_vec"
   ]
  },
  {
   "cell_type": "code",
   "execution_count": 142,
   "metadata": {},
   "outputs": [],
   "source": [
    "def get_angle(vec1, vec2):\n",
    "    norm_v1 = np.linalg.norm(vec1)\n",
    "    norm_v2 = np.linalg.norm(vec2)\n",
    "    cosA = np.cross(vec1, vec2)/(norm_v1*norm_v2)\n",
    "    alpha = np.rad2deg(np.arccos(cosA))\n",
    "    return alpha\n",
    "\n",
    "def get_new_direction(crossed_vec, pure_vector):\n",
    "    a, b = crossed_vec\n",
    "    angleAB = get_angle(pure_vector, b-a)\n",
    "    angleBA = get_angle(pure_vector, a-b)\n",
    "    print(angleAB, angleBA)\n",
    "    new_dir = b-a if angleAB<angleBA else a-b\n",
    "    new_dir_normed = new_dir/np.linalg.norm(new_dir)\n",
    "    return new_dir_normed"
   ]
  },
  {
   "cell_type": "code",
   "execution_count": 143,
   "metadata": {},
   "outputs": [],
   "source": [
    "start, finish = np.array(data['start']), np.array(data['finish'])\n",
    "obstacles = data['obstacles']"
   ]
  },
  {
   "cell_type": "code",
   "execution_count": 146,
   "metadata": {},
   "outputs": [
    {
     "name": "stdout",
     "output_type": "stream",
     "text": [
      "45.0 135.0\n",
      "39.56723781389748 140.4327621861025\n",
      "33.12921073153771 146.8707892684623\n",
      "25.591055086332645 154.40894491366737\n"
     ]
    }
   ],
   "source": [
    "curr_start = start\n",
    "my_path = [curr_start]\n",
    "\n",
    "for _ in range(10):\n",
    "    pure_vector = finish - curr_start\n",
    "    pure_vector_normed = pure_vector/np.linalg.norm(pure_vector)\n",
    "\n",
    "    next_step = curr_start+pure_vector_normed\n",
    "    crossed_vec = get_crossed_vec(start, next_step)\n",
    "\n",
    "    if len(crossed_vec):\n",
    "        new_dir_normed = get_new_direction(crossed_vec, pure_vector)\n",
    "        curr_start = curr_start+new_dir_normed\n",
    "    else:\n",
    "        curr_start = curr_start+pure_vector_normed\n",
    "    my_path.append(curr_start)"
   ]
  },
  {
   "cell_type": "code",
   "execution_count": 147,
   "metadata": {},
   "outputs": [
    {
     "data": {
      "image/png": "[encoded data removed]",
      "text/plain": [
       "<Figure size 432x432 with 1 Axes>"
      ]
     },
     "metadata": {
      "needs_background": "light"
     },
     "output_type": "display_data"
    }
   ],
   "source": [
    "plt.figure(figsize=(6,6))\n",
    "plt.axis('equal')\n",
    "\n",
    "for ob in obstacles:\n",
    "    ob = list(ob)\n",
    "    ob.append(ob[0])\n",
    "    x,y = zip(*ob)\n",
    "    plt.plot(x, y, c='red')\n",
    "    \n",
    "x,y = zip(*my_path)\n",
    "plt.plot(x,y,'blue')\n",
    "plt.grid()\n",
    "plt.show()"
   ]
  },
  {
   "cell_type": "code",
   "execution_count": null,
   "metadata": {},
   "outputs": [],
   "source": []
  }
 ],
 "metadata": {
  "kernelspec": {
   "display_name": "Python 3 (ipykernel)",
   "language": "python",
   "name": "python3"
  },
  "language_info": {
   "codemirror_mode": {
    "name": "ipython",
    "version": 3
   },
   "file_extension": ".py",
   "mimetype": "text/x-python",
   "name": "python",
   "nbconvert_exporter": "python",
   "pygments_lexer": "ipython3",
   "version": "3.8.9"
  }
 },
 "nbformat": 4,
 "nbformat_minor": 4
}
